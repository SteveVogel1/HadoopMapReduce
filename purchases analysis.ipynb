{
 "cells": [
  {
   "cell_type": "code",
   "execution_count": 1,
   "metadata": {},
   "outputs": [],
   "source": [
    "import pandas as pd"
   ]
  },
  {
   "cell_type": "markdown",
   "metadata": {},
   "source": [
    "# Laden der Daten und Mapping auf die Stunde genau"
   ]
  },
  {
   "cell_type": "code",
   "execution_count": 10,
   "metadata": {},
   "outputs": [],
   "source": [
    "df = pd.read_csv(\"./purchases.txt\", delimiter=\"\\t\", names = ['date', 'time', 'place', 'type', 'price', 'payment_type'])"
   ]
  },
  {
   "cell_type": "code",
   "execution_count": 11,
   "metadata": {},
   "outputs": [],
   "source": [
    "df['time_split'] = df.apply(lambda x: x['time'][:2], axis = 1, result_type = 'expand')"
   ]
  },
  {
   "cell_type": "code",
   "execution_count": 19,
   "metadata": {},
   "outputs": [
    {
     "data": {
      "text/html": [
       "<div>\n",
       "<style scoped>\n",
       "    .dataframe tbody tr th:only-of-type {\n",
       "        vertical-align: middle;\n",
       "    }\n",
       "\n",
       "    .dataframe tbody tr th {\n",
       "        vertical-align: top;\n",
       "    }\n",
       "\n",
       "    .dataframe thead th {\n",
       "        text-align: right;\n",
       "    }\n",
       "</style>\n",
       "<table border=\"1\" class=\"dataframe\">\n",
       "  <thead>\n",
       "    <tr style=\"text-align: right;\">\n",
       "      <th></th>\n",
       "      <th>date</th>\n",
       "      <th>time</th>\n",
       "      <th>place</th>\n",
       "      <th>type</th>\n",
       "      <th>price</th>\n",
       "      <th>payment_type</th>\n",
       "      <th>time_split</th>\n",
       "    </tr>\n",
       "  </thead>\n",
       "  <tbody>\n",
       "    <tr>\n",
       "      <td>0</td>\n",
       "      <td>2012-01-01</td>\n",
       "      <td>09:00</td>\n",
       "      <td>San Jose</td>\n",
       "      <td>Men's Clothing</td>\n",
       "      <td>214.05</td>\n",
       "      <td>Amex</td>\n",
       "      <td>09</td>\n",
       "    </tr>\n",
       "    <tr>\n",
       "      <td>1</td>\n",
       "      <td>2012-01-01</td>\n",
       "      <td>09:00</td>\n",
       "      <td>Fort Worth</td>\n",
       "      <td>Women's Clothing</td>\n",
       "      <td>153.57</td>\n",
       "      <td>Visa</td>\n",
       "      <td>09</td>\n",
       "    </tr>\n",
       "    <tr>\n",
       "      <td>2</td>\n",
       "      <td>2012-01-01</td>\n",
       "      <td>09:00</td>\n",
       "      <td>San Diego</td>\n",
       "      <td>Music</td>\n",
       "      <td>66.08</td>\n",
       "      <td>Cash</td>\n",
       "      <td>09</td>\n",
       "    </tr>\n",
       "    <tr>\n",
       "      <td>3</td>\n",
       "      <td>2012-01-01</td>\n",
       "      <td>09:00</td>\n",
       "      <td>Pittsburgh</td>\n",
       "      <td>Pet Supplies</td>\n",
       "      <td>493.51</td>\n",
       "      <td>Discover</td>\n",
       "      <td>09</td>\n",
       "    </tr>\n",
       "    <tr>\n",
       "      <td>4</td>\n",
       "      <td>2012-01-01</td>\n",
       "      <td>09:00</td>\n",
       "      <td>Omaha</td>\n",
       "      <td>Children's Clothing</td>\n",
       "      <td>235.63</td>\n",
       "      <td>MasterCard</td>\n",
       "      <td>09</td>\n",
       "    </tr>\n",
       "    <tr>\n",
       "      <td>5</td>\n",
       "      <td>2012-01-01</td>\n",
       "      <td>09:00</td>\n",
       "      <td>Stockton</td>\n",
       "      <td>Men's Clothing</td>\n",
       "      <td>247.18</td>\n",
       "      <td>MasterCard</td>\n",
       "      <td>09</td>\n",
       "    </tr>\n",
       "    <tr>\n",
       "      <td>6</td>\n",
       "      <td>2012-01-01</td>\n",
       "      <td>09:00</td>\n",
       "      <td>Austin</td>\n",
       "      <td>Cameras</td>\n",
       "      <td>379.60</td>\n",
       "      <td>Visa</td>\n",
       "      <td>09</td>\n",
       "    </tr>\n",
       "    <tr>\n",
       "      <td>7</td>\n",
       "      <td>2012-01-01</td>\n",
       "      <td>09:00</td>\n",
       "      <td>New York</td>\n",
       "      <td>Consumer Electronics</td>\n",
       "      <td>296.80</td>\n",
       "      <td>Cash</td>\n",
       "      <td>09</td>\n",
       "    </tr>\n",
       "    <tr>\n",
       "      <td>8</td>\n",
       "      <td>2012-01-01</td>\n",
       "      <td>09:00</td>\n",
       "      <td>Corpus Christi</td>\n",
       "      <td>Toys</td>\n",
       "      <td>25.38</td>\n",
       "      <td>Discover</td>\n",
       "      <td>09</td>\n",
       "    </tr>\n",
       "    <tr>\n",
       "      <td>9</td>\n",
       "      <td>2012-01-01</td>\n",
       "      <td>09:00</td>\n",
       "      <td>Fort Worth</td>\n",
       "      <td>Toys</td>\n",
       "      <td>213.88</td>\n",
       "      <td>Visa</td>\n",
       "      <td>09</td>\n",
       "    </tr>\n",
       "  </tbody>\n",
       "</table>\n",
       "</div>"
      ],
      "text/plain": [
       "         date   time           place                  type   price  \\\n",
       "0  2012-01-01  09:00        San Jose        Men's Clothing  214.05   \n",
       "1  2012-01-01  09:00      Fort Worth      Women's Clothing  153.57   \n",
       "2  2012-01-01  09:00       San Diego                 Music   66.08   \n",
       "3  2012-01-01  09:00      Pittsburgh          Pet Supplies  493.51   \n",
       "4  2012-01-01  09:00           Omaha   Children's Clothing  235.63   \n",
       "5  2012-01-01  09:00        Stockton        Men's Clothing  247.18   \n",
       "6  2012-01-01  09:00          Austin               Cameras  379.60   \n",
       "7  2012-01-01  09:00        New York  Consumer Electronics  296.80   \n",
       "8  2012-01-01  09:00  Corpus Christi                  Toys   25.38   \n",
       "9  2012-01-01  09:00      Fort Worth                  Toys  213.88   \n",
       "\n",
       "  payment_type time_split  \n",
       "0         Amex         09  \n",
       "1         Visa         09  \n",
       "2         Cash         09  \n",
       "3     Discover         09  \n",
       "4   MasterCard         09  \n",
       "5   MasterCard         09  \n",
       "6         Visa         09  \n",
       "7         Cash         09  \n",
       "8     Discover         09  \n",
       "9         Visa         09  "
      ]
     },
     "execution_count": 19,
     "metadata": {},
     "output_type": "execute_result"
    }
   ],
   "source": [
    "df.head(10)"
   ]
  },
  {
   "cell_type": "markdown",
   "metadata": {},
   "source": [
    "# Berechnen diverser statistischen Werten"
   ]
  },
  {
   "cell_type": "code",
   "execution_count": 20,
   "metadata": {},
   "outputs": [
    {
     "data": {
      "text/html": [
       "<div>\n",
       "<style scoped>\n",
       "    .dataframe tbody tr th:only-of-type {\n",
       "        vertical-align: middle;\n",
       "    }\n",
       "\n",
       "    .dataframe tbody tr th {\n",
       "        vertical-align: top;\n",
       "    }\n",
       "\n",
       "    .dataframe thead th {\n",
       "        text-align: right;\n",
       "    }\n",
       "</style>\n",
       "<table border=\"1\" class=\"dataframe\">\n",
       "  <thead>\n",
       "    <tr style=\"text-align: right;\">\n",
       "      <th></th>\n",
       "      <th>price</th>\n",
       "    </tr>\n",
       "    <tr>\n",
       "      <th>time_split</th>\n",
       "      <th></th>\n",
       "    </tr>\n",
       "  </thead>\n",
       "  <tbody>\n",
       "    <tr>\n",
       "      <td>09</td>\n",
       "      <td>249.672185</td>\n",
       "    </tr>\n",
       "    <tr>\n",
       "      <td>10</td>\n",
       "      <td>250.056104</td>\n",
       "    </tr>\n",
       "    <tr>\n",
       "      <td>11</td>\n",
       "      <td>249.928080</td>\n",
       "    </tr>\n",
       "    <tr>\n",
       "      <td>12</td>\n",
       "      <td>249.855358</td>\n",
       "    </tr>\n",
       "    <tr>\n",
       "      <td>13</td>\n",
       "      <td>250.258298</td>\n",
       "    </tr>\n",
       "    <tr>\n",
       "      <td>14</td>\n",
       "      <td>249.822076</td>\n",
       "    </tr>\n",
       "    <tr>\n",
       "      <td>15</td>\n",
       "      <td>250.073113</td>\n",
       "    </tr>\n",
       "    <tr>\n",
       "      <td>16</td>\n",
       "      <td>250.243684</td>\n",
       "    </tr>\n",
       "    <tr>\n",
       "      <td>17</td>\n",
       "      <td>249.740575</td>\n",
       "    </tr>\n",
       "  </tbody>\n",
       "</table>\n",
       "</div>"
      ],
      "text/plain": [
       "                 price\n",
       "time_split            \n",
       "09          249.672185\n",
       "10          250.056104\n",
       "11          249.928080\n",
       "12          249.855358\n",
       "13          250.258298\n",
       "14          249.822076\n",
       "15          250.073113\n",
       "16          250.243684\n",
       "17          249.740575"
      ]
     },
     "execution_count": 20,
     "metadata": {},
     "output_type": "execute_result"
    }
   ],
   "source": [
    "df.groupby('time_split').mean()"
   ]
  },
  {
   "cell_type": "code",
   "execution_count": 21,
   "metadata": {},
   "outputs": [
    {
     "data": {
      "text/plain": [
       "time_split\n",
       "09    499.99\n",
       "10    499.99\n",
       "11    499.99\n",
       "12    499.99\n",
       "13    499.99\n",
       "14    499.99\n",
       "15    499.99\n",
       "16    499.99\n",
       "17    499.99\n",
       "Name: price, dtype: float64"
      ]
     },
     "execution_count": 21,
     "metadata": {},
     "output_type": "execute_result"
    }
   ],
   "source": [
    " df.groupby('time_split')['price'].max()"
   ]
  },
  {
   "cell_type": "code",
   "execution_count": 22,
   "metadata": {},
   "outputs": [
    {
     "data": {
      "text/plain": [
       "time_split\n",
       "09    0.0\n",
       "10    0.0\n",
       "11    0.0\n",
       "12    0.0\n",
       "13    0.0\n",
       "14    0.0\n",
       "15    0.0\n",
       "16    0.0\n",
       "17    0.0\n",
       "Name: price, dtype: float64"
      ]
     },
     "execution_count": 22,
     "metadata": {},
     "output_type": "execute_result"
    }
   ],
   "source": [
    " df.groupby('time_split')['price'].min()"
   ]
  },
  {
   "cell_type": "code",
   "execution_count": 23,
   "metadata": {},
   "outputs": [
    {
     "data": {
      "text/plain": [
       "time_split\n",
       "09    144.404425\n",
       "10    144.497425\n",
       "11    144.269663\n",
       "12    144.284005\n",
       "13    144.282950\n",
       "14    144.435415\n",
       "15    144.145912\n",
       "16    144.229889\n",
       "17    144.306676\n",
       "Name: price, dtype: float64"
      ]
     },
     "execution_count": 23,
     "metadata": {},
     "output_type": "execute_result"
    }
   ],
   "source": [
    " df.groupby('time_split')['price'].std()"
   ]
  },
  {
   "cell_type": "code",
   "execution_count": 24,
   "metadata": {},
   "outputs": [
    {
     "data": {
      "text/html": [
       "<div>\n",
       "<style scoped>\n",
       "    .dataframe tbody tr th:only-of-type {\n",
       "        vertical-align: middle;\n",
       "    }\n",
       "\n",
       "    .dataframe tbody tr th {\n",
       "        vertical-align: top;\n",
       "    }\n",
       "\n",
       "    .dataframe thead th {\n",
       "        text-align: right;\n",
       "    }\n",
       "</style>\n",
       "<table border=\"1\" class=\"dataframe\">\n",
       "  <thead>\n",
       "    <tr style=\"text-align: right;\">\n",
       "      <th></th>\n",
       "      <th>time_split</th>\n",
       "      <th>price</th>\n",
       "    </tr>\n",
       "  </thead>\n",
       "  <tbody>\n",
       "    <tr>\n",
       "      <td>0</td>\n",
       "      <td>09</td>\n",
       "      <td>214.05</td>\n",
       "    </tr>\n",
       "    <tr>\n",
       "      <td>1</td>\n",
       "      <td>09</td>\n",
       "      <td>153.57</td>\n",
       "    </tr>\n",
       "    <tr>\n",
       "      <td>2</td>\n",
       "      <td>09</td>\n",
       "      <td>66.08</td>\n",
       "    </tr>\n",
       "    <tr>\n",
       "      <td>3</td>\n",
       "      <td>09</td>\n",
       "      <td>493.51</td>\n",
       "    </tr>\n",
       "    <tr>\n",
       "      <td>4</td>\n",
       "      <td>09</td>\n",
       "      <td>235.63</td>\n",
       "    </tr>\n",
       "  </tbody>\n",
       "</table>\n",
       "</div>"
      ],
      "text/plain": [
       "  time_split   price\n",
       "0         09  214.05\n",
       "1         09  153.57\n",
       "2         09   66.08\n",
       "3         09  493.51\n",
       "4         09  235.63"
      ]
     },
     "execution_count": 24,
     "metadata": {},
     "output_type": "execute_result"
    }
   ],
   "source": [
    "df[['time_split', 'price']].head(5)"
   ]
  },
  {
   "cell_type": "markdown",
   "metadata": {},
   "source": [
    "# Top 10 der Umsatzstärksten Filialen"
   ]
  },
  {
   "cell_type": "code",
   "execution_count": 25,
   "metadata": {},
   "outputs": [
    {
     "data": {
      "text/html": [
       "<div>\n",
       "<style scoped>\n",
       "    .dataframe tbody tr th:only-of-type {\n",
       "        vertical-align: middle;\n",
       "    }\n",
       "\n",
       "    .dataframe tbody tr th {\n",
       "        vertical-align: top;\n",
       "    }\n",
       "\n",
       "    .dataframe thead th {\n",
       "        text-align: right;\n",
       "    }\n",
       "</style>\n",
       "<table border=\"1\" class=\"dataframe\">\n",
       "  <thead>\n",
       "    <tr style=\"text-align: right;\">\n",
       "      <th></th>\n",
       "      <th>price</th>\n",
       "    </tr>\n",
       "    <tr>\n",
       "      <th>place</th>\n",
       "      <th></th>\n",
       "    </tr>\n",
       "  </thead>\n",
       "  <tbody>\n",
       "    <tr>\n",
       "      <td>Chandler</td>\n",
       "      <td>9919559.86</td>\n",
       "    </tr>\n",
       "    <tr>\n",
       "      <td>Jersey City</td>\n",
       "      <td>9920141.87</td>\n",
       "    </tr>\n",
       "    <tr>\n",
       "      <td>Anchorage</td>\n",
       "      <td>9933500.40</td>\n",
       "    </tr>\n",
       "    <tr>\n",
       "      <td>Seattle</td>\n",
       "      <td>9936267.37</td>\n",
       "    </tr>\n",
       "    <tr>\n",
       "      <td>San Jose</td>\n",
       "      <td>9936721.41</td>\n",
       "    </tr>\n",
       "    <tr>\n",
       "      <td>Oakland</td>\n",
       "      <td>9947292.52</td>\n",
       "    </tr>\n",
       "    <tr>\n",
       "      <td>Miami</td>\n",
       "      <td>9947316.07</td>\n",
       "    </tr>\n",
       "    <tr>\n",
       "      <td>New Orleans</td>\n",
       "      <td>9949257.75</td>\n",
       "    </tr>\n",
       "    <tr>\n",
       "      <td>Lubbock</td>\n",
       "      <td>9958119.15</td>\n",
       "    </tr>\n",
       "    <tr>\n",
       "      <td>Nashville</td>\n",
       "      <td>9961450.51</td>\n",
       "    </tr>\n",
       "  </tbody>\n",
       "</table>\n",
       "</div>"
      ],
      "text/plain": [
       "                  price\n",
       "place                  \n",
       "Chandler     9919559.86\n",
       "Jersey City  9920141.87\n",
       "Anchorage    9933500.40\n",
       "Seattle      9936267.37\n",
       "San Jose     9936721.41\n",
       "Oakland      9947292.52\n",
       "Miami        9947316.07\n",
       "New Orleans  9949257.75\n",
       "Lubbock      9958119.15\n",
       "Nashville    9961450.51"
      ]
     },
     "execution_count": 25,
     "metadata": {},
     "output_type": "execute_result"
    }
   ],
   "source": [
    "df.groupby('place')[['place', 'price']].sum().sort_values(by='price')[:10]"
   ]
  }
 ],
 "metadata": {
  "kernelspec": {
   "display_name": "Python 3",
   "language": "python",
   "name": "python3"
  },
  "language_info": {
   "codemirror_mode": {
    "name": "ipython",
    "version": 3
   },
   "file_extension": ".py",
   "mimetype": "text/x-python",
   "name": "python",
   "nbconvert_exporter": "python",
   "pygments_lexer": "ipython3",
   "version": "3.7.4"
  }
 },
 "nbformat": 4,
 "nbformat_minor": 2
}
