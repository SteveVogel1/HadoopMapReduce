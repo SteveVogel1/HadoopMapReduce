{
 "cells": [
  {
   "cell_type": "code",
   "execution_count": 1,
   "metadata": {},
   "outputs": [],
   "source": [
    "import pandas as pd"
   ]
  },
  {
   "cell_type": "code",
   "execution_count": 9,
   "metadata": {},
   "outputs": [],
   "source": [
    "df = pd.read_csv(\"./purchases.txt\", delimiter=\"\\t\", names = ['date', 'time', 'place', 'type', 'price', 'payment_type'])"
   ]
  },
  {
   "cell_type": "code",
   "execution_count": 18,
   "metadata": {},
   "outputs": [],
   "source": [
    "df['time'] = df.apply(lambda x: x['time'].split(\":\")[0], axis = 1, result_type = 'expand')"
   ]
  },
  {
   "cell_type": "code",
   "execution_count": null,
   "metadata": {},
   "outputs": [],
   "source": [
    "df"
   ]
  },
  {
   "cell_type": "code",
   "execution_count": 24,
   "metadata": {},
   "outputs": [
    {
     "data": {
      "text/html": [
       "<div>\n",
       "<style scoped>\n",
       "    .dataframe tbody tr th:only-of-type {\n",
       "        vertical-align: middle;\n",
       "    }\n",
       "\n",
       "    .dataframe tbody tr th {\n",
       "        vertical-align: top;\n",
       "    }\n",
       "\n",
       "    .dataframe thead th {\n",
       "        text-align: right;\n",
       "    }\n",
       "</style>\n",
       "<table border=\"1\" class=\"dataframe\">\n",
       "  <thead>\n",
       "    <tr style=\"text-align: right;\">\n",
       "      <th></th>\n",
       "      <th>price</th>\n",
       "    </tr>\n",
       "    <tr>\n",
       "      <th>time</th>\n",
       "      <th></th>\n",
       "    </tr>\n",
       "  </thead>\n",
       "  <tbody>\n",
       "    <tr>\n",
       "      <td>09</td>\n",
       "      <td>249.672185</td>\n",
       "    </tr>\n",
       "    <tr>\n",
       "      <td>10</td>\n",
       "      <td>250.056104</td>\n",
       "    </tr>\n",
       "    <tr>\n",
       "      <td>11</td>\n",
       "      <td>249.928080</td>\n",
       "    </tr>\n",
       "    <tr>\n",
       "      <td>12</td>\n",
       "      <td>249.855358</td>\n",
       "    </tr>\n",
       "    <tr>\n",
       "      <td>13</td>\n",
       "      <td>250.258298</td>\n",
       "    </tr>\n",
       "    <tr>\n",
       "      <td>14</td>\n",
       "      <td>249.822076</td>\n",
       "    </tr>\n",
       "    <tr>\n",
       "      <td>15</td>\n",
       "      <td>250.073113</td>\n",
       "    </tr>\n",
       "    <tr>\n",
       "      <td>16</td>\n",
       "      <td>250.243684</td>\n",
       "    </tr>\n",
       "    <tr>\n",
       "      <td>17</td>\n",
       "      <td>249.740575</td>\n",
       "    </tr>\n",
       "  </tbody>\n",
       "</table>\n",
       "</div>"
      ],
      "text/plain": [
       "           price\n",
       "time            \n",
       "09    249.672185\n",
       "10    250.056104\n",
       "11    249.928080\n",
       "12    249.855358\n",
       "13    250.258298\n",
       "14    249.822076\n",
       "15    250.073113\n",
       "16    250.243684\n",
       "17    249.740575"
      ]
     },
     "execution_count": 24,
     "metadata": {},
     "output_type": "execute_result"
    }
   ],
   "source": [
    "df.groupby('time').mean()"
   ]
  },
  {
   "cell_type": "code",
   "execution_count": 27,
   "metadata": {},
   "outputs": [
    {
     "data": {
      "text/plain": [
       "time\n",
       "09    499.99\n",
       "10    499.99\n",
       "11    499.99\n",
       "12    499.99\n",
       "13    499.99\n",
       "14    499.99\n",
       "15    499.99\n",
       "16    499.99\n",
       "17    499.99\n",
       "Name: price, dtype: float64"
      ]
     },
     "execution_count": 27,
     "metadata": {},
     "output_type": "execute_result"
    }
   ],
   "source": [
    " df.groupby('time')['price'].max()"
   ]
  },
  {
   "cell_type": "code",
   "execution_count": 28,
   "metadata": {},
   "outputs": [
    {
     "data": {
      "text/plain": [
       "time\n",
       "09    0.0\n",
       "10    0.0\n",
       "11    0.0\n",
       "12    0.0\n",
       "13    0.0\n",
       "14    0.0\n",
       "15    0.0\n",
       "16    0.0\n",
       "17    0.0\n",
       "Name: price, dtype: float64"
      ]
     },
     "execution_count": 28,
     "metadata": {},
     "output_type": "execute_result"
    }
   ],
   "source": [
    " df.groupby('time')['price'].min()"
   ]
  },
  {
   "cell_type": "code",
   "execution_count": 29,
   "metadata": {},
   "outputs": [
    {
     "data": {
      "text/plain": [
       "time\n",
       "09    144.404425\n",
       "10    144.497425\n",
       "11    144.269663\n",
       "12    144.284005\n",
       "13    144.282950\n",
       "14    144.435415\n",
       "15    144.145912\n",
       "16    144.229889\n",
       "17    144.306676\n",
       "Name: price, dtype: float64"
      ]
     },
     "execution_count": 29,
     "metadata": {},
     "output_type": "execute_result"
    }
   ],
   "source": [
    " df.groupby('time')['price'].std()"
   ]
  },
  {
   "cell_type": "code",
   "execution_count": null,
   "metadata": {},
   "outputs": [],
   "source": []
  },
  {
   "cell_type": "code",
   "execution_count": null,
   "metadata": {},
   "outputs": [],
   "source": []
  },
  {
   "cell_type": "code",
   "execution_count": 21,
   "metadata": {},
   "outputs": [
    {
     "data": {
      "text/html": [
       "<div>\n",
       "<style scoped>\n",
       "    .dataframe tbody tr th:only-of-type {\n",
       "        vertical-align: middle;\n",
       "    }\n",
       "\n",
       "    .dataframe tbody tr th {\n",
       "        vertical-align: top;\n",
       "    }\n",
       "\n",
       "    .dataframe thead th {\n",
       "        text-align: right;\n",
       "    }\n",
       "</style>\n",
       "<table border=\"1\" class=\"dataframe\">\n",
       "  <thead>\n",
       "    <tr style=\"text-align: right;\">\n",
       "      <th></th>\n",
       "      <th>time</th>\n",
       "      <th>price</th>\n",
       "    </tr>\n",
       "  </thead>\n",
       "  <tbody>\n",
       "    <tr>\n",
       "      <td>0</td>\n",
       "      <td>09</td>\n",
       "      <td>214.05</td>\n",
       "    </tr>\n",
       "    <tr>\n",
       "      <td>1</td>\n",
       "      <td>09</td>\n",
       "      <td>153.57</td>\n",
       "    </tr>\n",
       "    <tr>\n",
       "      <td>2</td>\n",
       "      <td>09</td>\n",
       "      <td>66.08</td>\n",
       "    </tr>\n",
       "    <tr>\n",
       "      <td>3</td>\n",
       "      <td>09</td>\n",
       "      <td>493.51</td>\n",
       "    </tr>\n",
       "    <tr>\n",
       "      <td>4</td>\n",
       "      <td>09</td>\n",
       "      <td>235.63</td>\n",
       "    </tr>\n",
       "  </tbody>\n",
       "</table>\n",
       "</div>"
      ],
      "text/plain": [
       "  time   price\n",
       "0   09  214.05\n",
       "1   09  153.57\n",
       "2   09   66.08\n",
       "3   09  493.51\n",
       "4   09  235.63"
      ]
     },
     "execution_count": 21,
     "metadata": {},
     "output_type": "execute_result"
    }
   ],
   "source": [
    "df[['time', 'price']].head(5)"
   ]
  },
  {
   "cell_type": "code",
   "execution_count": 22,
   "metadata": {},
   "outputs": [
    {
     "data": {
      "text/html": [
       "<div>\n",
       "<style scoped>\n",
       "    .dataframe tbody tr th:only-of-type {\n",
       "        vertical-align: middle;\n",
       "    }\n",
       "\n",
       "    .dataframe tbody tr th {\n",
       "        vertical-align: top;\n",
       "    }\n",
       "\n",
       "    .dataframe thead th {\n",
       "        text-align: right;\n",
       "    }\n",
       "</style>\n",
       "<table border=\"1\" class=\"dataframe\">\n",
       "  <thead>\n",
       "    <tr style=\"text-align: right;\">\n",
       "      <th></th>\n",
       "      <th>date</th>\n",
       "      <th>time</th>\n",
       "      <th>place</th>\n",
       "      <th>type</th>\n",
       "      <th>price</th>\n",
       "      <th>payment_type</th>\n",
       "    </tr>\n",
       "  </thead>\n",
       "  <tbody>\n",
       "    <tr>\n",
       "      <td>0</td>\n",
       "      <td>2012-01-01</td>\n",
       "      <td>09</td>\n",
       "      <td>San Jose</td>\n",
       "      <td>Men's Clothing</td>\n",
       "      <td>214.05</td>\n",
       "      <td>Amex</td>\n",
       "    </tr>\n",
       "    <tr>\n",
       "      <td>1</td>\n",
       "      <td>2012-01-01</td>\n",
       "      <td>09</td>\n",
       "      <td>Fort Worth</td>\n",
       "      <td>Women's Clothing</td>\n",
       "      <td>153.57</td>\n",
       "      <td>Visa</td>\n",
       "    </tr>\n",
       "    <tr>\n",
       "      <td>2</td>\n",
       "      <td>2012-01-01</td>\n",
       "      <td>09</td>\n",
       "      <td>San Diego</td>\n",
       "      <td>Music</td>\n",
       "      <td>66.08</td>\n",
       "      <td>Cash</td>\n",
       "    </tr>\n",
       "    <tr>\n",
       "      <td>3</td>\n",
       "      <td>2012-01-01</td>\n",
       "      <td>09</td>\n",
       "      <td>Pittsburgh</td>\n",
       "      <td>Pet Supplies</td>\n",
       "      <td>493.51</td>\n",
       "      <td>Discover</td>\n",
       "    </tr>\n",
       "    <tr>\n",
       "      <td>4</td>\n",
       "      <td>2012-01-01</td>\n",
       "      <td>09</td>\n",
       "      <td>Omaha</td>\n",
       "      <td>Children's Clothing</td>\n",
       "      <td>235.63</td>\n",
       "      <td>MasterCard</td>\n",
       "    </tr>\n",
       "    <tr>\n",
       "      <td>...</td>\n",
       "      <td>...</td>\n",
       "      <td>...</td>\n",
       "      <td>...</td>\n",
       "      <td>...</td>\n",
       "      <td>...</td>\n",
       "      <td>...</td>\n",
       "    </tr>\n",
       "    <tr>\n",
       "      <td>4138471</td>\n",
       "      <td>2012-12-31</td>\n",
       "      <td>17</td>\n",
       "      <td>Albuquerque</td>\n",
       "      <td>Toys</td>\n",
       "      <td>345.70</td>\n",
       "      <td>MasterCard</td>\n",
       "    </tr>\n",
       "    <tr>\n",
       "      <td>4138472</td>\n",
       "      <td>2012-12-31</td>\n",
       "      <td>17</td>\n",
       "      <td>Rochester</td>\n",
       "      <td>DVDs</td>\n",
       "      <td>399.57</td>\n",
       "      <td>Amex</td>\n",
       "    </tr>\n",
       "    <tr>\n",
       "      <td>4138473</td>\n",
       "      <td>2012-12-31</td>\n",
       "      <td>17</td>\n",
       "      <td>Greensboro</td>\n",
       "      <td>Baby</td>\n",
       "      <td>277.27</td>\n",
       "      <td>Discover</td>\n",
       "    </tr>\n",
       "    <tr>\n",
       "      <td>4138474</td>\n",
       "      <td>2012-12-31</td>\n",
       "      <td>17</td>\n",
       "      <td>Arlington</td>\n",
       "      <td>Women's Clothing</td>\n",
       "      <td>134.95</td>\n",
       "      <td>MasterCard</td>\n",
       "    </tr>\n",
       "    <tr>\n",
       "      <td>4138475</td>\n",
       "      <td>2012-12-31</td>\n",
       "      <td>17</td>\n",
       "      <td>Corpus Christi</td>\n",
       "      <td>DVDs</td>\n",
       "      <td>441.61</td>\n",
       "      <td>Discover</td>\n",
       "    </tr>\n",
       "  </tbody>\n",
       "</table>\n",
       "<p>4138476 rows × 6 columns</p>\n",
       "</div>"
      ],
      "text/plain": [
       "               date time           place                 type   price  \\\n",
       "0        2012-01-01   09        San Jose       Men's Clothing  214.05   \n",
       "1        2012-01-01   09      Fort Worth     Women's Clothing  153.57   \n",
       "2        2012-01-01   09       San Diego                Music   66.08   \n",
       "3        2012-01-01   09      Pittsburgh         Pet Supplies  493.51   \n",
       "4        2012-01-01   09           Omaha  Children's Clothing  235.63   \n",
       "...             ...  ...             ...                  ...     ...   \n",
       "4138471  2012-12-31   17     Albuquerque                 Toys  345.70   \n",
       "4138472  2012-12-31   17       Rochester                 DVDs  399.57   \n",
       "4138473  2012-12-31   17      Greensboro                 Baby  277.27   \n",
       "4138474  2012-12-31   17       Arlington     Women's Clothing  134.95   \n",
       "4138475  2012-12-31   17  Corpus Christi                 DVDs  441.61   \n",
       "\n",
       "        payment_type  \n",
       "0               Amex  \n",
       "1               Visa  \n",
       "2               Cash  \n",
       "3           Discover  \n",
       "4         MasterCard  \n",
       "...              ...  \n",
       "4138471   MasterCard  \n",
       "4138472         Amex  \n",
       "4138473     Discover  \n",
       "4138474   MasterCard  \n",
       "4138475     Discover  \n",
       "\n",
       "[4138476 rows x 6 columns]"
      ]
     },
     "execution_count": 22,
     "metadata": {},
     "output_type": "execute_result"
    }
   ],
   "source": []
  },
  {
   "cell_type": "code",
   "execution_count": null,
   "metadata": {},
   "outputs": [],
   "source": []
  }
 ],
 "metadata": {
  "kernelspec": {
   "display_name": "Python 3",
   "language": "python",
   "name": "python3"
  },
  "language_info": {
   "codemirror_mode": {
    "name": "ipython",
    "version": 3
   },
   "file_extension": ".py",
   "mimetype": "text/x-python",
   "name": "python",
   "nbconvert_exporter": "python",
   "pygments_lexer": "ipython3",
   "version": "3.7.4"
  }
 },
 "nbformat": 4,
 "nbformat_minor": 2
}
